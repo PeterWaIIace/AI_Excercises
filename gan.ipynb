{
 "cells": [
  {
   "cell_type": "code",
   "execution_count": 1,
   "metadata": {},
   "outputs": [],
   "source": [
    "import torch\n",
    "from torch import nn\n",
    "\n",
    "import math \n",
    "import matplotlib.pyplot as plt"
   ]
  },
  {
   "cell_type": "code",
   "execution_count": 2,
   "metadata": {},
   "outputs": [
    {
     "data": {
      "text/plain": [
       "<torch._C.Generator at 0x7f6dc8624cf0>"
      ]
     },
     "execution_count": 2,
     "metadata": {},
     "output_type": "execute_result"
    }
   ],
   "source": [
    "torch.manual_seed(111)"
   ]
  },
  {
   "cell_type": "markdown",
   "metadata": {},
   "source": [
    "### Preparing training data"
   ]
  },
  {
   "cell_type": "code",
   "execution_count": 3,
   "metadata": {},
   "outputs": [
    {
     "data": {
      "text/plain": [
       "[<matplotlib.lines.Line2D at 0x7f6dc6da9e50>]"
      ]
     },
     "execution_count": 3,
     "metadata": {},
     "output_type": "execute_result"
    },
    {
     "data": {
      "image/png": "[encoded data removed]",
      "text/plain": [
       "<Figure size 432x288 with 1 Axes>"
      ]
     },
     "metadata": {
      "needs_background": "light"
     },
     "output_type": "display_data"
    }
   ],
   "source": [
    "train_data_length = 1024\n",
    "\n",
    "train_data      = torch.zeros((train_data_length,2))\n",
    "train_data[:,0] = 2* math.pi * torch.rand(train_data_length)\n",
    "train_data[:,1] = torch.sin(train_data[:,0])\n",
    "train_labels    = torch.zeros(train_data_length)\n",
    "\n",
    "train_set = [\n",
    "    (train_data[i],train_labels[i]) for i in range(train_data_length)\n",
    "]\n",
    "\n",
    "plt.plot(train_data[:, 0], train_data[:, 1], \".\")"
   ]
  },
  {
   "cell_type": "markdown",
   "metadata": {},
   "source": [
    "### Data loader"
   ]
  },
  {
   "cell_type": "code",
   "execution_count": 4,
   "metadata": {},
   "outputs": [],
   "source": [
    "batch_size = 32\n",
    "train_loader = torch.utils.data.DataLoader(\n",
    "    train_set, batch_size=batch_size, shuffle=True\n",
    ")"
   ]
  },
  {
   "cell_type": "markdown",
   "metadata": {},
   "source": [
    "### Discriminator"
   ]
  },
  {
   "cell_type": "code",
   "execution_count": 12,
   "metadata": {},
   "outputs": [],
   "source": [
    "class Discriminator(nn.Module):\n",
    "    \n",
    "    def __init__(self):\n",
    "        super().__init__()\n",
    "        self.model = nn.Sequential(\n",
    "            nn.Linear(2,256),\n",
    "            nn.ReLU(),\n",
    "            nn.Dropout(0.3),\n",
    "            nn.Linear(256,128),\n",
    "            nn.ReLU(),\n",
    "            nn.Dropout(0.3),\n",
    "            nn.Linear(128,64),\n",
    "            nn.ReLU(),\n",
    "            nn.Dropout(0.3),\n",
    "            nn.Linear(64,1),\n",
    "            nn.Sigmoid()\n",
    "        )\n",
    "    \n",
    "    def forward(self,x):\n",
    "        output = self.model(x)\n",
    "        return output\n",
    "\n",
    "disc = Discriminator()"
   ]
  },
  {
   "cell_type": "markdown",
   "metadata": {},
   "source": [
    "### Generator"
   ]
  },
  {
   "cell_type": "code",
   "execution_count": 13,
   "metadata": {},
   "outputs": [],
   "source": [
    "class Generator(nn.Module):\n",
    "    \n",
    "    def __init__(self):\n",
    "        super().__init__()\n",
    "        self.model = nn.Sequential(\n",
    "            nn.Linear(2,16),\n",
    "            nn.ReLU(),\n",
    "            nn.Linear(16,32),\n",
    "            nn.ReLU(),\n",
    "            nn.Linear(32,2)\n",
    "        )\n",
    "    \n",
    "    def forward(self,x):\n",
    "        output = self.model(x)\n",
    "        return output\n",
    "\n",
    "gen = Generator()"
   ]
  },
  {
   "cell_type": "markdown",
   "metadata": {},
   "source": [
    "### Learning parameters\n"
   ]
  },
  {
   "cell_type": "code",
   "execution_count": 14,
   "metadata": {},
   "outputs": [],
   "source": [
    "lr = 0.001\n",
    "num_epochs = 300\n",
    "loss_function = nn.BCELoss()"
   ]
  },
  {
   "cell_type": "markdown",
   "metadata": {},
   "source": [
    "### Optimizers\n"
   ]
  },
  {
   "cell_type": "code",
   "execution_count": 15,
   "metadata": {},
   "outputs": [],
   "source": [
    "optimizer_discriminator = torch.optim.Adam(disc.parameters(), lr=lr)\n",
    "optimizer_generator = torch.optim.Adam(gen.parameters(), lr=lr)"
   ]
  },
  {
   "cell_type": "markdown",
   "metadata": {},
   "source": [
    "### Training"
   ]
  },
  {
   "cell_type": "code",
   "execution_count": 19,
   "metadata": {},
   "outputs": [
    {
     "name": "stdout",
     "output_type": "stream",
     "text": [
      "Epoch: 0 Loss D.: 0.6574735641479492\n",
      "Epoch: 0 Loss G.: 0.8250631093978882\n",
      "Epoch: 10 Loss D.: 0.6873001456260681\n",
      "Epoch: 10 Loss G.: 0.7132644057273865\n",
      "Epoch: 20 Loss D.: 0.7288197875022888\n",
      "Epoch: 20 Loss G.: 0.670069694519043\n",
      "Epoch: 30 Loss D.: 0.7037545442581177\n",
      "Epoch: 30 Loss G.: 0.6827520132064819\n",
      "Epoch: 40 Loss D.: 0.6847429871559143\n",
      "Epoch: 40 Loss G.: 0.6511781811714172\n",
      "Epoch: 50 Loss D.: 0.6450986266136169\n",
      "Epoch: 50 Loss G.: 0.7382488250732422\n",
      "Epoch: 60 Loss D.: 0.6901654005050659\n",
      "Epoch: 60 Loss G.: 0.730121374130249\n",
      "Epoch: 70 Loss D.: 0.683338463306427\n",
      "Epoch: 70 Loss G.: 0.7826579809188843\n",
      "Epoch: 80 Loss D.: 0.7298794984817505\n",
      "Epoch: 80 Loss G.: 0.775604784488678\n",
      "Epoch: 90 Loss D.: 0.6013032793998718\n",
      "Epoch: 90 Loss G.: 0.9611825346946716\n",
      "Epoch: 100 Loss D.: 0.6943167448043823\n",
      "Epoch: 100 Loss G.: 0.6817967891693115\n",
      "Epoch: 110 Loss D.: 0.6823744773864746\n",
      "Epoch: 110 Loss G.: 0.7300504446029663\n",
      "Epoch: 120 Loss D.: 0.6651846766471863\n",
      "Epoch: 120 Loss G.: 0.7315941452980042\n",
      "Epoch: 130 Loss D.: 0.791419267654419\n",
      "Epoch: 130 Loss G.: 0.6520453691482544\n",
      "Epoch: 140 Loss D.: 0.6790376901626587\n",
      "Epoch: 140 Loss G.: 0.7382230758666992\n",
      "Epoch: 150 Loss D.: 0.6110691428184509\n",
      "Epoch: 150 Loss G.: 0.8004035353660583\n",
      "Epoch: 160 Loss D.: 0.695237934589386\n",
      "Epoch: 160 Loss G.: 0.6720617413520813\n",
      "Epoch: 170 Loss D.: 0.6708039045333862\n",
      "Epoch: 170 Loss G.: 0.7647678256034851\n",
      "Epoch: 180 Loss D.: 0.7192721962928772\n",
      "Epoch: 180 Loss G.: 0.7975044846534729\n",
      "Epoch: 190 Loss D.: 0.7025013566017151\n",
      "Epoch: 190 Loss G.: 0.8096875548362732\n",
      "Epoch: 200 Loss D.: 0.6868951916694641\n",
      "Epoch: 200 Loss G.: 0.7666190266609192\n",
      "Epoch: 210 Loss D.: 0.6955143809318542\n",
      "Epoch: 210 Loss G.: 0.7195255160331726\n",
      "Epoch: 220 Loss D.: 0.6792897582054138\n",
      "Epoch: 220 Loss G.: 0.8323612213134766\n",
      "Epoch: 230 Loss D.: 0.7618664503097534\n",
      "Epoch: 230 Loss G.: 0.7535457015037537\n",
      "Epoch: 240 Loss D.: 0.7095873951911926\n",
      "Epoch: 240 Loss G.: 0.7309231758117676\n",
      "Epoch: 250 Loss D.: 0.6974847912788391\n",
      "Epoch: 250 Loss G.: 0.7267100214958191\n",
      "Epoch: 260 Loss D.: 0.692262589931488\n",
      "Epoch: 260 Loss G.: 0.7272319197654724\n",
      "Epoch: 270 Loss D.: 0.6677797436714172\n",
      "Epoch: 270 Loss G.: 0.7465741634368896\n",
      "Epoch: 280 Loss D.: 0.6355307102203369\n",
      "Epoch: 280 Loss G.: 0.8448038101196289\n",
      "Epoch: 290 Loss D.: 0.6011341214179993\n",
      "Epoch: 290 Loss G.: 1.1817712783813477\n",
      "DONE\n"
     ]
    }
   ],
   "source": [
    "for epoch in range(num_epochs):\n",
    "    for n, (real_samples, _) in enumerate(train_loader):\n",
    "        # data for training discriminator \n",
    "\n",
    "        real_samples_labels     = torch.ones((batch_size,1))\n",
    "        latent_space_samples    = torch.randn((batch_size,2)) \n",
    "        generated_samples       = gen(latent_space_samples)\n",
    "        generated_samples_labels = torch.zeros((batch_size,1))\n",
    "        all_samples             = torch.cat((real_samples,generated_samples))\n",
    "        all_samples_labels      = torch.cat((real_samples_labels,generated_samples_labels))\n",
    "\n",
    "        #training discriminator \n",
    "\n",
    "        disc.zero_grad()\n",
    "        output_disc = disc(all_samples)\n",
    "        loss_disc   = loss_function(output_disc, all_samples_labels)\n",
    "        loss_disc.backward()\n",
    "        optimizer_discriminator.step()\n",
    "\n",
    "        # data for training the generator\n",
    "\n",
    "        latent_space_samples    = torch.randn((batch_size,2))\n",
    "\n",
    "        # training generator \n",
    "\n",
    "        gen.zero_grad()\n",
    "        generated_samples           = gen(latent_space_samples)\n",
    "        output_discriminator_gen    = disc(generated_samples) \n",
    "\n",
    "        loss_gen = loss_function( output_discriminator_gen , real_samples_labels)\n",
    "\n",
    "        loss_gen.backward()\n",
    "        optimizer_generator.step()\n",
    "\n",
    "        if epoch % 10 == 0 and n == batch_size - 1:\n",
    "            print(f\"Epoch: {epoch} Loss D.: {loss_disc}\")\n",
    "            print(f\"Epoch: {epoch} Loss G.: {loss_gen}\")  \n",
    "\n",
    "print(\"DONE\")      "
   ]
  },
  {
   "cell_type": "markdown",
   "metadata": {},
   "source": [
    "### Testing results"
   ]
  },
  {
   "cell_type": "code",
   "execution_count": 20,
   "metadata": {},
   "outputs": [
    {
     "name": "stdout",
     "output_type": "stream",
     "text": [
      "before detaching tensor([[ 4.4910, -0.9843],\n",
      "        [ 1.0746,  0.9194],\n",
      "        [ 4.2506, -0.8911],\n",
      "        [ 3.9366, -0.7185],\n",
      "        [ 5.6095, -0.5985],\n",
      "        [ 3.9288, -0.7149],\n",
      "        [ 5.7182, -0.2271],\n",
      "        [ 5.6953, -0.4995],\n",
      "        [ 5.1129, -0.9320],\n",
      "        [ 1.1591,  0.9539],\n",
      "        [ 5.7373, -0.1758],\n",
      "        [ 4.1392, -0.8384],\n",
      "        [ 0.7861,  0.7329],\n",
      "        [ 3.3187, -0.1428],\n",
      "        [ 1.9264,  0.9930],\n",
      "        [ 5.1248, -0.9368],\n",
      "        [ 4.9726, -0.9759],\n",
      "        [ 4.3389, -0.9358],\n",
      "        [ 2.7951,  0.3404],\n",
      "        [ 5.9150, -0.1125],\n",
      "        [ 3.3658, -0.2154],\n",
      "        [ 1.1878,  0.9662],\n",
      "        [ 4.9064, -1.0013],\n",
      "        [ 3.9587, -0.7375],\n",
      "        [ 5.7226, -0.5421],\n",
      "        [ 3.3410, -0.1929],\n",
      "        [ 3.0979,  0.0504],\n",
      "        [ 3.4496, -0.2931],\n",
      "        [ 1.0074,  0.8772],\n",
      "        [ 5.6279, -0.7478],\n",
      "        [ 5.0108, -0.9655],\n",
      "        [ 5.2269, -0.9069],\n",
      "        [ 3.7436, -0.5685],\n",
      "        [ 4.1437, -0.8666],\n",
      "        [ 4.5301, -1.0031],\n",
      "        [ 3.8713, -0.6760],\n",
      "        [ 1.5510,  1.0521],\n",
      "        [ 2.9756,  0.1633],\n",
      "        [ 1.0163,  0.8833],\n",
      "        [ 1.0301,  0.8925],\n",
      "        [ 4.0447, -0.7920],\n",
      "        [ 5.5488, -0.7801],\n",
      "        [ 1.5430,  1.0515],\n",
      "        [ 1.1384,  0.9454],\n",
      "        [ 1.1123,  0.9367],\n",
      "        [ 5.5984, -0.6349],\n",
      "        [ 5.7561, -0.4066],\n",
      "        [ 1.1967,  0.9688],\n",
      "        [ 0.9714,  0.8573],\n",
      "        [ 3.1372,  0.0094],\n",
      "        [ 2.1202,  0.8852],\n",
      "        [ 5.7028, -0.3416],\n",
      "        [ 4.8936, -0.9973],\n",
      "        [ 5.3921, -0.8489],\n",
      "        [ 5.7438, -0.1835],\n",
      "        [ 1.1472,  0.9495],\n",
      "        [ 2.7261,  0.4075],\n",
      "        [ 0.8031,  0.7444],\n",
      "        [ 4.0168, -0.7805],\n",
      "        [ 3.6136, -0.4407],\n",
      "        [ 2.8946,  0.2488],\n",
      "        [ 0.9551,  0.8449],\n",
      "        [ 1.5515,  1.0619],\n",
      "        [ 5.7422, -0.1857],\n",
      "        [ 2.6428,  0.4899],\n",
      "        [ 5.7495, -0.2863],\n",
      "        [ 1.6626,  1.0456],\n",
      "        [ 2.3208,  0.7484],\n",
      "        [ 4.0415, -0.7874],\n",
      "        [ 4.3816, -0.9469],\n",
      "        [ 1.4646,  1.0413],\n",
      "        [ 5.6286, -0.5444],\n",
      "        [ 3.9850, -0.7500],\n",
      "        [ 2.1207,  0.8873],\n",
      "        [ 1.0907,  0.9282],\n",
      "        [ 1.0348,  0.8987],\n",
      "        [ 5.1331, -0.9405],\n",
      "        [ 4.6004, -1.0022],\n",
      "        [ 0.6032,  0.6066],\n",
      "        [ 1.4300,  1.0353],\n",
      "        [ 1.6812,  1.0470],\n",
      "        [ 4.0146, -0.7706],\n",
      "        [ 1.2700,  0.9991],\n",
      "        [ 0.8153,  0.7535],\n",
      "        [ 3.4816, -0.3205],\n",
      "        [ 3.3014, -0.1454],\n",
      "        [ 5.6699, -0.4401],\n",
      "        [ 2.7837,  0.3592],\n",
      "        [ 5.7202, -0.2754],\n",
      "        [ 3.5431, -0.3879],\n",
      "        [ 5.2110, -0.8924],\n",
      "        [ 0.9491,  0.8398],\n",
      "        [ 3.5027, -0.3474],\n",
      "        [ 5.5019, -0.8404],\n",
      "        [ 3.1567, -0.0134],\n",
      "        [ 5.7274, -0.4930],\n",
      "        [ 2.1191,  0.8883],\n",
      "        [ 1.8556,  1.0065],\n",
      "        [ 0.9107,  0.8144],\n",
      "        [ 4.6673, -1.0374]], grad_fn=<AddmmBackward>)\n"
     ]
    },
    {
     "data": {
      "text/plain": [
       "[<matplotlib.lines.Line2D at 0x7f6dc5dcf760>]"
      ]
     },
     "execution_count": 20,
     "metadata": {},
     "output_type": "execute_result"
    },
    {
     "data": {
      "image/png": "[encoded data removed]",
      "text/plain": [
       "<Figure size 432x288 with 1 Axes>"
      ]
     },
     "metadata": {
      "needs_background": "light"
     },
     "output_type": "display_data"
    }
   ],
   "source": [
    "latent_space_samples = torch.randn(100, 2)\n",
    "generated_samples = gen(latent_space_samples)\n",
    "\n",
    "generated_samples = generated_samples.detach()\n",
    "plt.plot(generated_samples[:, 0], generated_samples[:, 1], \".\")"
   ]
  },
  {
   "cell_type": "markdown",
   "metadata": {},
   "source": [
    "### Generating hand written numbers"
   ]
  },
  {
   "cell_type": "code",
   "execution_count": 22,
   "metadata": {},
   "outputs": [],
   "source": [
    "import torchvision\n",
    "import torchvision.transforms as transforms\n",
    "\n",
    "device = \"\"\n",
    "if torch.cuda.is_available():\n",
    "    device = torch.device(\"cuda\")\n",
    "else:\n",
    "    device = torch.device(\"cpu\")"
   ]
  },
  {
   "cell_type": "code",
   "execution_count": 23,
   "metadata": {},
   "outputs": [
    {
     "name": "stderr",
     "output_type": "stream",
     "text": [
      "3.6%"
     ]
    },
    {
     "name": "stdout",
     "output_type": "stream",
     "text": [
      "Downloading http://yann.lecun.com/exdb/mnist/train-images-idx3-ubyte.gz to ./MNIST/raw/train-images-idx3-ubyte.gz\n"
     ]
    },
    {
     "name": "stderr",
     "output_type": "stream",
     "text": [
      "100.1%"
     ]
    },
    {
     "name": "stdout",
     "output_type": "stream",
     "text": [
      "Extracting ./MNIST/raw/train-images-idx3-ubyte.gz to ./MNIST/raw\n"
     ]
    },
    {
     "name": "stderr",
     "output_type": "stream",
     "text": [
      "8.4%5%"
     ]
    },
    {
     "name": "stdout",
     "output_type": "stream",
     "text": [
      "Downloading http://yann.lecun.com/exdb/mnist/train-labels-idx1-ubyte.gz to ./MNIST/raw/train-labels-idx1-ubyte.gz\n",
      "Extracting ./MNIST/raw/train-labels-idx1-ubyte.gz to ./MNIST/raw\n",
      "Downloading http://yann.lecun.com/exdb/mnist/t10k-images-idx3-ubyte.gz to ./MNIST/raw/t10k-images-idx3-ubyte.gz\n"
     ]
    },
    {
     "name": "stderr",
     "output_type": "stream",
     "text": [
      "100.4%"
     ]
    },
    {
     "name": "stdout",
     "output_type": "stream",
     "text": [
      "Extracting ./MNIST/raw/t10k-images-idx3-ubyte.gz to ./MNIST/raw\n",
      "Downloading http://yann.lecun.com/exdb/mnist/t10k-labels-idx1-ubyte.gz to ./MNIST/raw/t10k-labels-idx1-ubyte.gz\n"
     ]
    },
    {
     "name": "stderr",
     "output_type": "stream",
     "text": [
      "180.4%"
     ]
    },
    {
     "name": "stdout",
     "output_type": "stream",
     "text": [
      "Extracting ./MNIST/raw/t10k-labels-idx1-ubyte.gz to ./MNIST/raw\n",
      "Processing...\n",
      "Done!\n"
     ]
    }
   ],
   "source": [
    "transform = transforms.Compose(\n",
    "    [transforms.ToTensor(), transforms.Normalize((0.5,), (0.5,))]\n",
    ")\n",
    "\n",
    "train_set = torchvision.datasets.MNIST(\n",
    "    root=\".\", train=True, download=True, transform=transform\n",
    ")"
   ]
  },
  {
   "cell_type": "code",
   "execution_count": 24,
   "metadata": {},
   "outputs": [],
   "source": [
    "batch_size = 32\n",
    "train_loader = torch.utils.data.DataLoader(\n",
    "    train_set, batch_size=batch_size, shuffle=True\n",
    ")"
   ]
  },
  {
   "cell_type": "code",
   "execution_count": 28,
   "metadata": {},
   "outputs": [
    {
     "data": {
      "image/png": "[encoded data removed]",
      "text/plain": [
       "<Figure size 432x288 with 16 Axes>"
      ]
     },
     "metadata": {},
     "output_type": "display_data"
    }
   ],
   "source": [
    "real_samples, mnist_labels = next(iter(train_loader))\n",
    "for i in range(16):\n",
    "    ax = plt.subplot(4, 4, i + 1)\n",
    "    plt.imshow(real_samples[i].reshape(28, 28), cmap=\"gray_r\")\n",
    "    plt.xticks([])\n",
    "    plt.yticks([])"
   ]
  },
  {
   "cell_type": "markdown",
   "metadata": {},
   "source": [
    "### MINST discriminator "
   ]
  },
  {
   "cell_type": "code",
   "execution_count": 30,
   "metadata": {},
   "outputs": [],
   "source": [
    "class DiscriminatorMINST(nn.Module):\n",
    "    \n",
    "    def __init__(self):\n",
    "        super().__init__()\n",
    "        self.model = nn.Sequential(\n",
    "            nn.Linear(784,1024),\n",
    "            nn.ReLU(),\n",
    "            nn.Dropout(0.3),\n",
    "            nn.Linear(1024,512),\n",
    "            nn.ReLU(),\n",
    "            nn.Dropout(0.3),\n",
    "            nn.Linear(512,256),\n",
    "            nn.ReLU(),\n",
    "            nn.Dropout(0.3),\n",
    "            nn.Linear(256,1),\n",
    "            nn.Sigmoid()\n",
    "        )\n",
    "    \n",
    "    def forward(self,x):\n",
    "        x = x.view(x.size(0), 784) # vectorize\n",
    "        output = self.model(x)\n",
    "        return output\n",
    "\n",
    "discMINST = DiscriminatorMINST().to(device=device) # to(device=device) - sends to gpu or cpu "
   ]
  },
  {
   "cell_type": "markdown",
   "metadata": {},
   "source": [
    "### Generator MINST"
   ]
  },
  {
   "cell_type": "code",
   "execution_count": 32,
   "metadata": {},
   "outputs": [],
   "source": [
    "class GeneratorMINST(nn.Module):\n",
    "\n",
    "    def __init__(self):\n",
    "        super().__init__()\n",
    "        self.model = nn.Sequential(\n",
    "            nn.Linear(100,256),\n",
    "            nn.ReLU(),\n",
    "            nn.Linear(256,512),\n",
    "            nn.ReLU(),\n",
    "            nn.Linear(512,1024),\n",
    "            nn.ReLU(),\n",
    "            nn.Linear(1024,784),\n",
    "            nn.Tanh() # to make output in range of -1 to 1\n",
    "        )\n",
    "    \n",
    "    def forward(self,x):\n",
    "        output = self.model(x)\n",
    "        output = output.view(x.size(0), 1, 28, 28) # change vector to matrix\n",
    "        return output\n",
    "\n",
    "genMINST = GeneratorMINST().to(device=device) # to(device=device) - sends to gpu or cpu"
   ]
  },
  {
   "cell_type": "markdown",
   "metadata": {},
   "source": [
    "### Training MINST"
   ]
  },
  {
   "cell_type": "code",
   "execution_count": 33,
   "metadata": {},
   "outputs": [],
   "source": [
    "lr = 0.0001\n",
    "num_epochs = 50\n",
    "loss_function = nn.BCELoss()\n",
    "\n",
    "optimizer_discMINST = torch.optim.Adam(discMINST.parameters(), lr=lr)\n",
    "optimizer_genMINST  = torch.optim.Adam(genMINST.parameters(), lr=lr)\n",
    "\n",
    "for epoch in range(num_epochs):\n",
    "    for n, (real_samples, mnist_labels) in enumerate(train_loader):\n",
    "        # Data for training the discriminator\n",
    "        real_samples            = real_samples.to(device=device)\n",
    "        real_samples_labels     = torch.ones((batch_size, 1)).to(device=device)\n",
    "        latent_space_samples    = torch.randn((batch_size, 100)).to(device=device)\n",
    "        \n",
    "        generated_samples        = genMINST(latent_space_samples)\n",
    "        generated_samples_labels = torch.zeros((batch_size, 1)).to(device=device)\n",
    "       \n",
    "        all_samples         = torch.cat((real_samples, generated_samples))\n",
    "        all_samples_labels  = torch.cat((real_samples_labels, generated_samples_labels))\n",
    "\n",
    "        # Training the discriminator\n",
    "        discMINST.zero_grad()\n",
    "        output_discriminator = discMINST(all_samples)\n",
    "\n",
    "        loss_discriminator = loss_function(output_discriminator, all_samples_labels)\n",
    "        loss_discriminator.backward()\n",
    "        \n",
    "        optimizer_discMINST.step()\n",
    "\n",
    "        # Data for training the generator\n",
    "        latent_space_samples = torch.randn((batch_size, 100)).to(device=device)\n",
    "\n",
    "        # Training the generator\n",
    "        genMINST.zero_grad()\n",
    "        generated_samples = genMINST(latent_space_samples)\n",
    "\n",
    "        output_discriminator_generated = discMINST(generated_samples)\n",
    "        loss_generator = loss_function( output_discriminator_generated, real_samples_labels )\n",
    "        \n",
    "        loss_generator.backward()\n",
    "        optimizer_genMINST.step()\n",
    "\n",
    "        # Show loss\n",
    "        if n == batch_size - 1:\n",
    "            print(f\"Epoch: {epoch} Loss D.: {loss_discriminator}\")\n",
    "            print(f\"Epoch: {epoch} Loss G.: {loss_generator}\")"
   ]
  },
  {
   "cell_type": "markdown",
   "metadata": {},
   "source": []
  },
  {
   "cell_type": "code",
   "execution_count": null,
   "metadata": {},
   "outputs": [],
   "source": []
  }
 ],
 "metadata": {
  "interpreter": {
   "hash": "d5592b0d5c06f91eed330e1ac479999390c0d78b6a8825987b0646d0688a3b66"
  },
  "kernelspec": {
   "display_name": "Python 3.8.13 ('gan')",
   "language": "python",
   "name": "python3"
  },
  "language_info": {
   "codemirror_mode": {
    "name": "ipython",
    "version": 3
   },
   "file_extension": ".py",
   "mimetype": "text/x-python",
   "name": "python",
   "nbconvert_exporter": "python",
   "pygments_lexer": "ipython3",
   "version": "3.8.13"
  },
  "orig_nbformat": 4
 },
 "nbformat": 4,
 "nbformat_minor": 2
}
